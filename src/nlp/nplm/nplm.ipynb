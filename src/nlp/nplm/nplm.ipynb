{
 "cells": [
  {
   "cell_type": "code",
   "execution_count": 1,
   "metadata": {},
   "outputs": [
    {
     "name": "stdout",
     "output_type": "stream",
     "text": [
      "词汇表 ['我', '玩具', '挨打', '爸爸', '讨厌', '爱', '喜欢']\n",
      "词汇到索引 {'我': 0, '玩具': 1, '挨打': 2, '爸爸': 3, '讨厌': 4, '爱': 5, '喜欢': 6}\n",
      "索引到词汇 {0: '我', 1: '玩具', 2: '挨打', 3: '爸爸', 4: '讨厌', 5: '爱', 6: '喜欢'}\n",
      "词汇表大小 7\n"
     ]
    }
   ],
   "source": [
    "# nplm (Neural Probabilistic Language Model 神经概率语言模型)\n",
    "\n",
    "sentences = [\"我 喜欢 玩具\", \"我 爱 爸爸\", \"我 讨厌 挨打\"]\n",
    "word_list = list(set(\" \".join(sentences).split()))\n",
    "\n",
    "word_to_idx = {word: idx for idx, word in enumerate(word_list)}\n",
    "idx_to_word = {idx: word for idx, word in enumerate(word_list)}\n",
    "voc_size = len(word_list)\n",
    "print(\"词汇表\", word_list)\n",
    "print(\"词汇到索引\", word_to_idx)\n",
    "print(\"索引到词汇\", idx_to_word)\n",
    "print(\"词汇表大小\", len(word_list))"
   ]
  },
  {
   "cell_type": "code",
   "execution_count": 2,
   "metadata": {},
   "outputs": [
    {
     "name": "stdout",
     "output_type": "stream",
     "text": [
      "输入批处理数据 tensor([[0, 5],\n",
      "        [0, 4]])\n",
      "输入批处理数据对应原始词 [['我', '爱'], ['我', '讨厌']]\n",
      "目标批处理数据 tensor([3, 2])\n",
      "目标批处理数据对应原始词 ['爸爸', '挨打']\n"
     ]
    }
   ],
   "source": [
    "import torch \n",
    "import random\n",
    "\n",
    "batch_size = 2\n",
    "def make_batch(sentences, batch_size):\n",
    "    input_batch = []\n",
    "    target_batch = []\n",
    "    selected_sentences = random.sample(sentences, batch_size) # 随机选择batch_size个句子\n",
    "    for sentence in selected_sentences:\n",
    "        words = sentence.split()\n",
    "        inp = [word_to_idx[word] for word in words[:-1]] # 输入是除了最后一个词的所有词\n",
    "        tgt = word_to_idx[words[-1]] # 目标是最后一个词\n",
    "        input_batch.append(inp)\n",
    "        target_batch.append(tgt)\n",
    "    input_batch = torch.LongTensor(input_batch)\n",
    "    # print(\"input.shape\", input_batch.shape)\n",
    "    target_batch = torch.LongTensor(target_batch)\n",
    "    # print(\"target.shape\", target_batch.shape)\n",
    "    return input_batch, target_batch\n",
    "\n",
    "input_batch, target_batch = make_batch(sentences, batch_size)\n",
    "print(\"输入批处理数据\", input_batch)\n",
    "input_words = []\n",
    "for input_idxs in input_batch:\n",
    "    input_words.append([idx_to_word[idx.item()] for idx in input_idxs])\n",
    "print(\"输入批处理数据对应原始词\", input_words)\n",
    "\n",
    "print(\"目标批处理数据\", target_batch)\n",
    "target_words = [idx_to_word[idx.item()] for idx in target_batch]\n",
    "print(\"目标批处理数据对应原始词\", target_words)"
   ]
  },
  {
   "cell_type": "code",
   "execution_count": 3,
   "metadata": {},
   "outputs": [],
   "source": [
    "import torch.nn as nn\n",
    "\n",
    "# 模型用来预测给定句子的下一个词\n",
    "class NPLM(nn.Module):\n",
    "    def __init__(self, voc_size, embedding_size, n_step, n_hidden):\n",
    "        super(NPLM, self).__init__()\n",
    "        # 从词汇表大小到嵌入层大小的线性层\n",
    "        self.C = nn.Embedding(voc_size, embedding_size)\n",
    "        self.linear1 = nn.Linear(n_step * embedding_size, n_hidden)\n",
    "        self.linear2 = nn.Linear(n_hidden, voc_size)\n",
    "    \n",
    "    def forward(self, X): # X: [batch_size, n_step]\n",
    "        X = self.C(X) # [batch_size, n_step, embedding_size]\n",
    "        X = X.view(-1, n_step * embedding_size) # [batch_size, n_step * embedding_size]\n",
    "        hidden = torch.tanh(self.linear1(X)) # [batch_size, n_hidden]\n",
    "        output = self.linear2(hidden) # [batch_size, voc_size]\n",
    "        return output\n",
    "    "
   ]
  },
  {
   "cell_type": "code",
   "execution_count": 4,
   "metadata": {},
   "outputs": [
    {
     "name": "stdout",
     "output_type": "stream",
     "text": [
      "NPLM 模型结构 NPLM(\n",
      "  (C): Embedding(7, 2)\n",
      "  (linear1): Linear(in_features=4, out_features=2, bias=True)\n",
      "  (linear2): Linear(in_features=2, out_features=7, bias=True)\n",
      ")\n"
     ]
    }
   ],
   "source": [
    "n_step = 2\n",
    "n_hidden = 2\n",
    "embedding_size = 2\n",
    "model = NPLM(voc_size, embedding_size, n_step, n_hidden)\n",
    "print(\"NPLM 模型结构\", model)"
   ]
  },
  {
   "cell_type": "code",
   "execution_count": 5,
   "metadata": {},
   "outputs": [
    {
     "name": "stdout",
     "output_type": "stream",
     "text": [
      "epoch 1000 loss: 0.0031\n",
      "epoch 2000 loss: 0.0005\n",
      "epoch 3000 loss: 0.0003\n",
      "epoch 4000 loss: 0.0001\n",
      "epoch 5000 loss: 0.0001\n"
     ]
    }
   ],
   "source": [
    "import torch.optim as optim\n",
    "\n",
    "loss_fn = nn.CrossEntropyLoss()\n",
    "optimizer = optim.Adam(model.parameters(), lr=0.1)\n",
    "\n",
    "epoches = 5000\n",
    "for epoch in range(epoches):\n",
    "    optimizer.zero_grad()\n",
    "    input_batch, target_batch = make_batch(sentences, batch_size)\n",
    "    pred = model(input_batch)\n",
    "    loss = loss_fn(pred, target_batch)\n",
    "    if (epoch + 1) % 1000 == 0:\n",
    "        print(f\"epoch {epoch + 1} loss: {loss.item():.4f}\")\n",
    "    loss.backward()\n",
    "    optimizer.step()"
   ]
  },
  {
   "cell_type": "code",
   "execution_count": 21,
   "metadata": {},
   "outputs": [
    {
     "name": "stdout",
     "output_type": "stream",
     "text": [
      "torch.Size([2, 7])\n",
      "predict.shape torch.Size([2])\n",
      "['我', '讨厌'] -> 挨打\n",
      "['我', '喜欢'] -> 玩具\n"
     ]
    }
   ],
   "source": [
    "input_strs = [[\"我\", \"讨厌\"], [\"我\", \"喜欢\"]]\n",
    "input_idxs = [[word_to_idx[word] for word in input_str] for input_str in input_strs]\n",
    "\n",
    "input_batch = torch.LongTensor(input_idxs)\n",
    "# 预测最大的idx\n",
    "print(model(input_batch).data.shape)\n",
    "# print(model(input_batch).data.max(dim=1))\n",
    "predict = model(input_batch).data.max(dim=1).indices # [batch_size, 1]\n",
    "print(\"predict.shape\", predict.shape)\n",
    "# print(\"predict.sequeeze.shape\", predict.squeeze().shape)\n",
    "predict_strs = [idx_to_word[idx.item()] for idx in predict]\n",
    "\n",
    "for input_seq, pred in zip(input_strs, predict_strs):\n",
    "    print(input_seq, \"->\", pred)"
   ]
  },
  {
   "cell_type": "code",
   "execution_count": null,
   "metadata": {},
   "outputs": [],
   "source": []
  }
 ],
 "metadata": {
  "kernelspec": {
   "display_name": "agent",
   "language": "python",
   "name": "python3"
  },
  "language_info": {
   "codemirror_mode": {
    "name": "ipython",
    "version": 3
   },
   "file_extension": ".py",
   "mimetype": "text/x-python",
   "name": "python",
   "nbconvert_exporter": "python",
   "pygments_lexer": "ipython3",
   "version": "3.11.11"
  }
 },
 "nbformat": 4,
 "nbformat_minor": 2
}
