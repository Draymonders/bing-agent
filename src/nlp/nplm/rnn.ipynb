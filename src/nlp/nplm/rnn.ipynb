{
 "cells": [
  {
   "cell_type": "code",
   "execution_count": null,
   "metadata": {},
   "outputs": [
    {
     "name": "stdout",
     "output_type": "stream",
     "text": [
      "词汇表 ['喜欢', '不喜欢', '吵架', '爸爸', '玩具', '讨厌', '挨打', '我', '爱']\n",
      "词汇到索引 {'喜欢': 0, '不喜欢': 1, '吵架': 2, '爸爸': 3, '玩具': 4, '讨厌': 5, '挨打': 6, '我': 7, '爱': 8}\n",
      "索引到词汇 {0: '喜欢', 1: '不喜欢', 2: '吵架', 3: '爸爸', 4: '玩具', 5: '讨厌', 6: '挨打', 7: '我', 8: '爱'}\n",
      "词汇表大小 9\n"
     ]
    }
   ],
   "source": [
    "# rnn(recurrent neural network)\n",
    "\n",
    "# 核心公式\n",
    "# h_t = tanh(W_x * x_t + W_h * h_t-1 + b)\n",
    "# y_t = softmax(W_y * h_t + b)\n",
    "# 输入 x_t 是一个向量，长度为 input_size\n",
    "# 隐藏状态 h_t-1 是一个向量，长度为 hidden_size\n",
    "# 输出 y_t 是一个向量，长度为 output_size\n",
    "\n",
    "sentences = [\"我 喜欢 玩具\", \"我 爱 爸爸\", \"我 讨厌 挨打\", \"我 不喜欢 吵架\"]\n",
    "word_list = list(set(\" \".join(sentences).split()))\n",
    "\n",
    "word_to_idx = {word: idx for idx, word in enumerate(word_list)}\n",
    "idx_to_word = {idx: word for idx, word in enumerate(word_list)}\n",
    "voc_size = len(word_list)\n",
    "print(\"词汇表\", word_list)\n",
    "print(\"词汇到索引\", word_to_idx)\n",
    "print(\"索引到词汇\", idx_to_word)\n",
    "print(\"词汇表大小\", len(word_list))"
   ]
  },
  {
   "cell_type": "code",
   "execution_count": 5,
   "metadata": {},
   "outputs": [
    {
     "name": "stdout",
     "output_type": "stream",
     "text": [
      "输入批处理数据 tensor([[7, 1],\n",
      "        [7, 5]])\n",
      "输入批处理数据对应原始词 [['我', '不喜欢'], ['我', '讨厌']]\n",
      "目标批处理数据 tensor([2, 6])\n",
      "目标批处理数据对应原始词 ['吵架', '挨打']\n"
     ]
    }
   ],
   "source": [
    "import torch \n",
    "import random\n",
    "\n",
    "batch_size = 2\n",
    "def make_batch(sentences, batch_size):\n",
    "    input_batch = []\n",
    "    target_batch = []\n",
    "    selected_sentences = random.sample(sentences, batch_size) # 随机选择batch_size个句子\n",
    "    for sentence in selected_sentences:\n",
    "        words = sentence.split()\n",
    "        inp = [word_to_idx[word] for word in words[:-1]] # 输入是除了最后一个词的所有词\n",
    "        tgt = word_to_idx[words[-1]] # 目标是最后一个词\n",
    "        input_batch.append(inp)\n",
    "        target_batch.append(tgt)\n",
    "    input_batch = torch.LongTensor(input_batch)\n",
    "    # print(\"input.shape\", input_batch.shape)\n",
    "    target_batch = torch.LongTensor(target_batch)\n",
    "    # print(\"target.shape\", target_batch.shape)\n",
    "    return input_batch, target_batch\n",
    "\n",
    "input_batch, target_batch = make_batch(sentences, batch_size)\n",
    "print(\"输入批处理数据\", input_batch)\n",
    "input_words = []\n",
    "for input_idxs in input_batch:\n",
    "    input_words.append([idx_to_word[idx.item()] for idx in input_idxs])\n",
    "print(\"输入批处理数据对应原始词\", input_words)\n",
    "\n",
    "print(\"目标批处理数据\", target_batch)\n",
    "target_words = [idx_to_word[idx.item()] for idx in target_batch]\n",
    "print(\"目标批处理数据对应原始词\", target_words)"
   ]
  },
  {
   "cell_type": "code",
   "execution_count": null,
   "metadata": {},
   "outputs": [],
   "source": [
    "import torch.nn as nn\n",
    "\n",
    "class NPLM(nn.Module):\n",
    "    def __init__(self, voc_size, embedding_size, n_hidden):\n",
    "        super(NPLM, self).__init__()\n",
    "        # 从词汇表大小到嵌入层大小的线性层\n",
    "        self.C = nn.Embedding(voc_size, embedding_size)\n",
    "        # 如果batch_first=True, 输入的形状为[batch_size, seq_len, input_size]\n",
    "        # 如果batch_first=False, 输入的形状为[seq_len, batch_size, input_size]\n",
    "        self.lstm = nn.LSTM(embedding_size, n_hidden, batch_first=True)\n",
    "        self.linear = nn.Linear(n_hidden, voc_size)\n",
    "    \n",
    "    def forward(self, X): # X: [batch_size. nstep]\n",
    "        X = self.C(X) # [batch_size, nstep, embedding_size]\n",
    "        lstm_out, _ = self.lstm(X) # [batch_size, nstep, n_hidden]\n",
    "        # 只选最后一个时间步的输出\n",
    "        last_lstm_out = lstm_out[:,-1,:] # [batch_size, 1, n_hidden]\n",
    "        output = self.linear(last_lstm_out) # \n",
    "        return output"
   ]
  },
  {
   "cell_type": "code",
   "execution_count": 9,
   "metadata": {},
   "outputs": [
    {
     "name": "stdout",
     "output_type": "stream",
     "text": [
      "NPLM 模型结构 NPLM(\n",
      "  (C): Embedding(9, 2)\n",
      "  (lstm): LSTM(2, 2, batch_first=True)\n",
      "  (linear): Linear(in_features=2, out_features=9, bias=True)\n",
      ")\n"
     ]
    }
   ],
   "source": [
    "\n",
    "n_hidden = 2\n",
    "embedding_size = 2\n",
    "model = NPLM(voc_size, embedding_size, n_hidden)\n",
    "print(\"NPLM 模型结构\", model)"
   ]
  },
  {
   "cell_type": "code",
   "execution_count": 11,
   "metadata": {},
   "outputs": [
    {
     "name": "stdout",
     "output_type": "stream",
     "text": [
      "epoch 1000 loss: 0.0233\n",
      "epoch 2000 loss: 0.0014\n",
      "epoch 3000 loss: 0.0003\n",
      "epoch 4000 loss: 0.0002\n",
      "epoch 5000 loss: 0.0001\n"
     ]
    }
   ],
   "source": [
    "import torch.optim as optim\n",
    "\n",
    "loss_fn = nn.CrossEntropyLoss()\n",
    "optimizer = optim.Adam(model.parameters(), lr=0.1)\n",
    "\n",
    "epoches = 5000\n",
    "for epoch in range(epoches):\n",
    "    optimizer.zero_grad()\n",
    "    input_batch, target_batch = make_batch(sentences, batch_size)\n",
    "    pred = model(input_batch)\n",
    "    loss = loss_fn(pred, target_batch)\n",
    "    if (epoch + 1) % 1000 == 0:\n",
    "        print(f\"epoch {epoch + 1} loss: {loss.item():.4f}\")\n",
    "    loss.backward()\n",
    "    optimizer.step()"
   ]
  },
  {
   "cell_type": "code",
   "execution_count": 16,
   "metadata": {},
   "outputs": [
    {
     "name": "stdout",
     "output_type": "stream",
     "text": [
      "torch.Size([2, 9])\n",
      "predict.shape torch.Size([2])\n",
      "['我', '爱'] -> 爸爸\n",
      "['我', '不喜欢'] -> 吵架\n"
     ]
    }
   ],
   "source": [
    "input_strs = [[\"我\", \"爱\"], [\"我\", \"不喜欢\"]]\n",
    "input_idxs = [[word_to_idx[word] for word in input_str] for input_str in input_strs]\n",
    "\n",
    "input_batch = torch.LongTensor(input_idxs)\n",
    "# 预测最大的idx\n",
    "print(model(input_batch).data.shape)\n",
    "# print(model(input_batch).data.max(dim=1))\n",
    "predict = model(input_batch).data.max(dim=1).indices # [batch_size, 1]\n",
    "print(\"predict.shape\", predict.shape)\n",
    "# print(\"predict.sequeeze.shape\", predict.squeeze().shape)\n",
    "predict_strs = [idx_to_word[idx.item()] for idx in predict]\n",
    "\n",
    "for input_seq, pred in zip(input_strs, predict_strs):\n",
    "    print(input_seq, \"->\", pred)"
   ]
  }
 ],
 "metadata": {
  "kernelspec": {
   "display_name": "agent",
   "language": "python",
   "name": "python3"
  },
  "language_info": {
   "codemirror_mode": {
    "name": "ipython",
    "version": 3
   },
   "file_extension": ".py",
   "mimetype": "text/x-python",
   "name": "python",
   "nbconvert_exporter": "python",
   "pygments_lexer": "ipython3",
   "version": "3.11.11"
  }
 },
 "nbformat": 4,
 "nbformat_minor": 2
}
