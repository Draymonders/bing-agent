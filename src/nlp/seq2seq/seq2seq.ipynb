{
 "cells": [
  {
   "cell_type": "code",
   "execution_count": 1,
   "metadata": {},
   "outputs": [
    {
     "name": "stdout",
     "output_type": "stream",
     "text": [
      "句子数量 5\n",
      "中文词表 17\n",
      "英文词表 22\n",
      "中文词表->idx： {'自然语言': 0, '喜欢': 1, '处理': 2, '改变': 3, '很': 4, '小冰': 5, '世界': 6, '咖哥': 7, '非常': 8, '复杂': 9, '学习': 10, '我': 11, '神经网络': 12, '强大': 13, '爱': 14, '深度学习': 15, '人工智能': 16}\n",
      "英文词表->idx： {'XiaoBing': 0, 'likes': 1, 'powerful': 2, 'the': 3, 'NLP': 4, '<sos>': 5, 'is': 6, 'Neural': 7, 'complex': 8, 'KaGe': 9, 'AI': 10, 'DL': 11, 'are': 12, 'studying': 13, 'so': 14, '<eos>': 15, 'world': 16, 'much': 17, 'I': 18, 'love': 19, 'changed': 20, 'Nets': 21}\n"
     ]
    }
   ],
   "source": [
    "sentences = [\n",
    "    [\"咖哥 很 喜欢 小冰\", \"KaGe likes XiaoBing much\"],\n",
    "    [\"我 爱 学习 人工智能\", \"I love studying AI\"],\n",
    "    [\"深度学习 改变 世界\", \"DL changed the world\"],\n",
    "    [\"自然语言 处理 很 强大\", \"NLP is so powerful\"],\n",
    "    [\"神经网络 非常 复杂\", \"Neural Nets are complex\"]\n",
    "]\n",
    "\n",
    "word_list_cn, word_list_en = [], [\"<sos>\", \"<eos>\"]\n",
    "for s in sentences:\n",
    "    word_list_cn.extend(s[0].split())\n",
    "    word_list_en.extend(s[1].split())\n",
    "\n",
    "word_list_cn = list(set(word_list_cn))\n",
    "word_list_en = list(set(word_list_en))\n",
    "# 单词->idx\n",
    "word2idx_cn = {w: i for i, w in enumerate(word_list_cn)}\n",
    "word2idx_en = {w: i for i, w in enumerate(word_list_en)}\n",
    "# idx->单词\n",
    "idx2word_cn = {i: w for i, w in enumerate(word_list_cn)}\n",
    "idx2word_en = {i: w for i, w in enumerate(word_list_en)}\n",
    "\n",
    "voc_size_cn = len(word2idx_cn)\n",
    "voc_size_en = len(word2idx_en)\n",
    "print(\"句子数量\", len(sentences))\n",
    "print(\"中文词表\", len(word_list_cn))\n",
    "print(\"英文词表\", len(word_list_en))\n",
    "print(\"中文词表->idx：\", word2idx_cn)\n",
    "print(\"英文词表->idx：\", word2idx_en)"
   ]
  },
  {
   "cell_type": "code",
   "execution_count": 2,
   "metadata": {},
   "outputs": [
    {
     "name": "stdout",
     "output_type": "stream",
     "text": [
      "原始句子 ['自然语言 处理 很 强大', 'NLP is so powerful']\n",
      "encoder_input: torch.Size([1, 4]) tensor([[ 0,  2,  4, 13]])\n",
      "decoder_input: torch.Size([1, 5]) tensor([[ 5,  4,  6, 14,  2]])\n",
      "target: torch.Size([1, 5]) tensor([[ 4,  6, 14,  2, 15]])\n"
     ]
    }
   ],
   "source": [
    "# import numpy as np\n",
    "import torch\n",
    "import random\n",
    "\n",
    "def make_data(sentences):\n",
    "    sentence = random.choice(sentences)\n",
    "    encode_input = [[word2idx_cn[word] for word in sentence[0].split()]]\n",
    "    decoder_input = [[word2idx_en[word] for word in (\"<sos> \"+ sentence[1]).split()]]\n",
    "    target = [[word2idx_en[word] for word in (sentence[1] + \" <eos>\").split()]]\n",
    "\n",
    "    encode_input = torch.LongTensor(encode_input)\n",
    "    decoder_input = torch.LongTensor(decoder_input)\n",
    "    target = torch.LongTensor(target)\n",
    "    return sentence, encode_input, decoder_input, target\n",
    "\n",
    "sentence, encoder_input, decoder_input, target = make_data(sentences)\n",
    "print(\"原始句子\", sentence)\n",
    "print(f\"encoder_input: {encoder_input.shape} {encoder_input}\")\n",
    "print(f\"decoder_input: {decoder_input.shape} {decoder_input}\", )\n",
    "print(f\"target: {target.shape} {target}\")"
   ]
  },
  {
   "cell_type": "code",
   "execution_count": 3,
   "metadata": {},
   "outputs": [],
   "source": [
    "import torch.nn as nn\n",
    "\n",
    "class Encoder(nn.Module):\n",
    "    def __init__(self, input_size, hidden_size):\n",
    "        super(Encoder, self).__init__()\n",
    "        self.hidden_size = hidden_size\n",
    "        self.embedding = nn.Embedding(input_size, hidden_size)\n",
    "        self.rnn = nn.RNN(hidden_size, hidden_size, batch_first=True) \n",
    "    \n",
    "    def forward(self, inputs, hidden):\n",
    "        embedded = self.embedding(inputs) # 输入转embedding\n",
    "        output, hidden = self.rnn(embedded, hidden)\n",
    "        return output, hidden\n",
    "\n",
    "class Decoder(nn.Module):\n",
    "    def __init__(self, hidden_size, output_size):\n",
    "        super(Decoder, self).__init__()\n",
    "        self.hidden_size = hidden_size\n",
    "        self.embedding = nn.Embedding(output_size, hidden_size)\n",
    "        self.rnn = nn.RNN(hidden_size, hidden_size, batch_first=True)\n",
    "        self.out = nn.Linear(hidden_size, output_size)\n",
    "    \n",
    "    def forward(self, inputs, hidden):\n",
    "        embedded = self.embedding(inputs) # 输入转embedding\n",
    "        output, hidden = self.rnn(embedded, hidden)\n",
    "        output = self.out(output)\n",
    "        return output, hidden\n",
    "\n",
    "class Seq2Seq(nn.Module):\n",
    "    def __init__(self, encoder, decoder):\n",
    "        super(Seq2Seq, self).__init__()\n",
    "        self.encoder = encoder\n",
    "        self.decoder = decoder\n",
    "\n",
    "    def forward(self, encoder_inputs, hidden, decoder_inputs):\n",
    "        encoder_outputs, encoder_hidden = self.encoder(encoder_inputs, hidden)\n",
    "        decoder_hidden = encoder_hidden\n",
    "        decoder_outputs, _ = self.decoder(decoder_inputs, decoder_hidden)\n",
    "        return decoder_outputs\n",
    "\n"
   ]
  },
  {
   "cell_type": "code",
   "execution_count": 4,
   "metadata": {},
   "outputs": [],
   "source": [
    "def train_seq2seq(model, loss_fn, optimizer, epoches, debug=False):\n",
    "    for epoch in range(epoches):\n",
    "        sentence, encoder_input, decoder_input, decoder_target = make_data(sentences)\n",
    "        hidden = torch.zeros(1, encoder_input.size(0), n_hidden) # 初始化隐藏层状态\n",
    "        if debug:\n",
    "            print(\"sentence\", sentence)\n",
    "        optimizer.zero_grad()\n",
    "        output = model(encoder_input, hidden, decoder_input)\n",
    "        # if debug:\n",
    "        #     print(\"output\", output.view(-1, voc_size_en).shape)\n",
    "        #     print(\"target\", target.view(-1).shape)\n",
    "        loss = loss_fn(output.view(-1, voc_size_en), target.view(-1))\n",
    "        if (epoch + 1) % 100 == 0:\n",
    "            print(f\"epoch {epoch + 1:04d} loss: {loss.item():.06f}\")\n",
    "        loss.backward()\n",
    "        optimizer.step()"
   ]
  },
  {
   "cell_type": "code",
   "execution_count": 5,
   "metadata": {},
   "outputs": [
    {
     "name": "stdout",
     "output_type": "stream",
     "text": [
      "encode: Encoder(\n",
      "  (embedding): Embedding(17, 128)\n",
      "  (rnn): RNN(128, 128, batch_first=True)\n",
      ")\n",
      "decode: Decoder(\n",
      "  (embedding): Embedding(22, 128)\n",
      "  (rnn): RNN(128, 128, batch_first=True)\n",
      "  (out): Linear(in_features=128, out_features=22, bias=True)\n",
      ")\n",
      "seq2seq Seq2Seq(\n",
      "  (encoder): Encoder(\n",
      "    (embedding): Embedding(17, 128)\n",
      "    (rnn): RNN(128, 128, batch_first=True)\n",
      "  )\n",
      "  (decoder): Decoder(\n",
      "    (embedding): Embedding(22, 128)\n",
      "    (rnn): RNN(128, 128, batch_first=True)\n",
      "    (out): Linear(in_features=128, out_features=22, bias=True)\n",
      "  )\n",
      ")\n",
      "epoch 0100 loss: 0.013292\n",
      "epoch 0200 loss: 0.006041\n",
      "epoch 0300 loss: 0.003218\n",
      "epoch 0400 loss: 0.002147\n",
      "epoch 0500 loss: 0.001396\n",
      "epoch 0600 loss: 0.001132\n",
      "epoch 0700 loss: 0.000824\n",
      "epoch 0800 loss: 0.000704\n",
      "epoch 0900 loss: 0.000547\n",
      "epoch 1000 loss: 0.000473\n"
     ]
    }
   ],
   "source": [
    "n_hidden = 128\n",
    "encoder = Encoder(voc_size_cn, n_hidden)\n",
    "decoder = Decoder(n_hidden, voc_size_en)\n",
    "print(\"encode:\", encoder)\n",
    "print(\"decode:\", decoder)\n",
    "model = Seq2Seq(encoder, decoder)\n",
    "print(\"seq2seq\", model)\n",
    "epoches = 1000\n",
    "loss_fn = nn.CrossEntropyLoss()\n",
    "optimizer = torch.optim.Adam(model.parameters(), lr=0.001)\n",
    "train_seq2seq(model, loss_fn, optimizer, epoches, False)"
   ]
  },
  {
   "cell_type": "code",
   "execution_count": 16,
   "metadata": {},
   "outputs": [
    {
     "name": "stdout",
     "output_type": "stream",
     "text": [
      "'咖哥 喜欢 小冰' -> 'NLP is so'\n",
      "'神经网络 非常 复杂' -> 'NLP is so'\n"
     ]
    }
   ],
   "source": [
    "def test_seq2seq(model, source_sentence, debug=False):\n",
    "    encoder_input = [[word2idx_cn[word] for word in source_sentence.split()]]\n",
    "    # if debug:\n",
    "    #     print(\"encoder_input.shape\", len(encoder_input[0]))\n",
    "    #     print(\"encode_input\", encoder_input.size(0))\n",
    "    decoder_input = [word2idx_en['<sos>']] + [word2idx_en['<eos>']]*(len(encoder_input[0])-1)\n",
    "\n",
    "    encoder_input = torch.LongTensor(encoder_input)\n",
    "    decoder_input = torch.LongTensor(decoder_input).unsqueeze(0)\n",
    "    # if debug:\n",
    "    #     print(\"encoder_input.shape\", encoder_input.shape)\n",
    "    #     print(\"decoder_input.shape\", decoder_input.shape)\n",
    "    hidden = torch.zeros(1, encoder_input.size(0), n_hidden)\n",
    "    predict = model(encoder_input, hidden, decoder_input)\n",
    "    if debug:\n",
    "        print(\"predict.shape\", predict.shape)\n",
    "        print(\"predict\", predict)\n",
    "    predict = predict.data.max(2, keepdim=True)[1]\n",
    "    if debug:\n",
    "        print(\"predict.shape\", predict.shape)\n",
    "        print(\"predict\", predict)\n",
    "    print(f\"'{source_sentence}' ->\", \"'\" + \" \".join([idx2word_en[n.item()] for n in predict.squeeze()]) + \"'\") \n",
    "\n",
    "model.eval()\n",
    "test_seq2seq(model, \"咖哥 喜欢 小冰\", False)\n",
    "test_seq2seq(model, \"神经网络 非常 复杂\", False)"
   ]
  },
  {
   "cell_type": "code",
   "execution_count": null,
   "metadata": {},
   "outputs": [],
   "source": []
  }
 ],
 "metadata": {
  "kernelspec": {
   "display_name": "agent",
   "language": "python",
   "name": "python3"
  },
  "language_info": {
   "codemirror_mode": {
    "name": "ipython",
    "version": 3
   },
   "file_extension": ".py",
   "mimetype": "text/x-python",
   "name": "python",
   "nbconvert_exporter": "python",
   "pygments_lexer": "ipython3",
   "version": "3.11.11"
  }
 },
 "nbformat": 4,
 "nbformat_minor": 2
}
