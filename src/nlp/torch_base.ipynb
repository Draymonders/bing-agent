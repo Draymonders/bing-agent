{
 "cells": [
  {
   "cell_type": "code",
   "execution_count": 2,
   "metadata": {},
   "outputs": [
    {
     "name": "stdout",
     "output_type": "stream",
     "text": [
      "tensor([[ 0.8663, -1.4449],\n",
      "        [ 0.1591, -0.2266]])\n",
      "tensor([[ 1.7766, -0.9983],\n",
      "        [ 0.1652, -0.4325]])\n"
     ]
    }
   ],
   "source": [
    "import torch\n",
    "a = torch.randn((2, 2))\n",
    "b = torch.randn((2, 2))\n",
    "print(a)\n",
    "print(b)\n",
    "\n",
    "def show_vec(x, desc=\"\"):\n",
    "    print(desc)\n",
    "    print(x)\n",
    "    print(x.shape)"
   ]
  },
  {
   "cell_type": "code",
   "execution_count": 3,
   "metadata": {},
   "outputs": [
    {
     "name": "stdout",
     "output_type": "stream",
     "text": [
      "cat\n",
      "tensor([[ 0.8663, -1.4449],\n",
      "        [ 0.1591, -0.2266],\n",
      "        [ 1.7766, -0.9983],\n",
      "        [ 0.1652, -0.4325]])\n",
      "torch.Size([4, 2])\n"
     ]
    }
   ],
   "source": [
    "show_vec(torch.cat((a, b), dim=0), \"cat\")"
   ]
  },
  {
   "cell_type": "code",
   "execution_count": 4,
   "metadata": {},
   "outputs": [
    {
     "name": "stdout",
     "output_type": "stream",
     "text": [
      "stack\n",
      "tensor([[[ 0.8663, -1.4449],\n",
      "         [ 0.1591, -0.2266]],\n",
      "\n",
      "        [[ 1.7766, -0.9983],\n",
      "         [ 0.1652, -0.4325]]])\n",
      "torch.Size([2, 2, 2])\n"
     ]
    }
   ],
   "source": [
    "show_vec(torch.stack((a, b), dim=0), \"stack\")"
   ]
  },
  {
   "cell_type": "code",
   "execution_count": 5,
   "metadata": {},
   "outputs": [
    {
     "name": "stdout",
     "output_type": "stream",
     "text": [
      "mean\n",
      "tensor([ 0.5127, -0.8358])\n",
      "torch.Size([2])\n"
     ]
    }
   ],
   "source": [
    "show_vec(torch.mean(a, dim=0), \"mean\")"
   ]
  },
  {
   "cell_type": "code",
   "execution_count": null,
   "metadata": {},
   "outputs": [],
   "source": []
  }
 ],
 "metadata": {
  "kernelspec": {
   "display_name": "agent",
   "language": "python",
   "name": "python3"
  },
  "language_info": {
   "codemirror_mode": {
    "name": "ipython",
    "version": 3
   },
   "file_extension": ".py",
   "mimetype": "text/x-python",
   "name": "python",
   "nbconvert_exporter": "python",
   "pygments_lexer": "ipython3",
   "version": "3.11.11"
  }
 },
 "nbformat": 4,
 "nbformat_minor": 2
}
