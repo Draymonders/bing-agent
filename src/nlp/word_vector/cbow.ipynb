{
 "cells": [
  {
   "cell_type": "code",
   "execution_count": 1,
   "metadata": {},
   "outputs": [
    {
     "name": "stdout",
     "output_type": "stream",
     "text": [
      "词汇表 ['Student', 'Teacher', 'Xiaobing', 'Niuzong', 'Xiaoxue', 'Mazong', 'Boss', 'Kage', 'is']\n",
      "词汇到索引 {'Student': 0, 'Teacher': 1, 'Xiaobing': 2, 'Niuzong': 3, 'Xiaoxue': 4, 'Mazong': 5, 'Boss': 6, 'Kage': 7, 'is': 8}\n",
      "索引到词汇 {0: 'Student', 1: 'Teacher', 2: 'Xiaobing', 3: 'Niuzong', 4: 'Xiaoxue', 5: 'Mazong', 6: 'Boss', 7: 'Kage', 8: 'is'}\n",
      "词汇表大小 9\n"
     ]
    }
   ],
   "source": [
    "# CBOW (Continuous Bag-of-Words)\n",
    "\n",
    "import torch\n",
    "\n",
    "sentences = [\"Kage is Teacher\", \"Mazong is Boss\", \"Niuzong is Boss\", \"Xiaobing is Student\", \"Xiaoxue is Student\"]\n",
    "words = ' '.join(sentences).split()\n",
    "# 去除重复单词\n",
    "word_list = list(set(words))\n",
    "\n",
    "word_to_idx = {word: idx for idx, word in enumerate(word_list)}\n",
    "idx_to_word = {idx: word for idx, word in enumerate(word_list)}\n",
    "# print(word_to_idx)\n",
    "# print(idx_to_word)\n",
    "voc_size = len(word_list)\n",
    "print(\"词汇表\", word_list)\n",
    "print(\"词汇到索引\", word_to_idx)\n",
    "print(\"索引到词汇\", idx_to_word)\n",
    "print(\"词汇表大小\", voc_size)"
   ]
  },
  {
   "cell_type": "code",
   "execution_count": 3,
   "metadata": {},
   "outputs": [
    {
     "name": "stdout",
     "output_type": "stream",
     "text": [
      "CBOW 数据样例: [('Kage', ['is', 'Teacher']), ('is', ['Kage', 'Teacher']), ('Teacher', ['Kage', 'is'])]\n"
     ]
    }
   ],
   "source": [
    "# 获取上下文词汇，将当前单词前后各N个单词作为周围词\n",
    "def create_cbow_dataset(sentences, window_size=2):\n",
    "    # print(window_size)\n",
    "    data = []\n",
    "    for sentence in sentences:\n",
    "        sentence = sentence.split()\n",
    "        for idx, word in enumerate(sentence):\n",
    "            context_words = sentence[max(idx-window_size, 0):idx] + sentence[idx+1:min(idx+window_size+1, len(sentence))]\n",
    "            data.append((word, context_words))\n",
    "    return data\n",
    "\n",
    "cbow_datas = create_cbow_dataset(sentences, window_size=2)\n",
    "print(\"CBOW 数据样例:\", cbow_datas[:3])"
   ]
  },
  {
   "cell_type": "code",
   "execution_count": 17,
   "metadata": {},
   "outputs": [],
   "source": [
    "import torch.nn as nn\n",
    "\n",
    "def one_hot_encoding(word, word_to_idx):\n",
    "    tensor = torch.zeros(len(word_to_idx))\n",
    "    tensor[word_to_idx[word]] = 1\n",
    "    return tensor\n",
    "\n",
    "class CBOW(nn.Module):\n",
    "    def __init__(self, vocab_size, embedding_size, debug=False):\n",
    "        super(CBOW, self).__init__()\n",
    "        self.input_to_hidden = nn.Linear(vocab_size, embedding_size)\n",
    "        self.hidden_to_output = nn.Linear(embedding_size, vocab_size)\n",
    "        self.debug = debug\n",
    "\n",
    "    def forward(self, X): \n",
    "        # X: [num_context_words, voc_size]\n",
    "        embeddings = self.input_to_hidden(X)\n",
    "        \n",
    "        hidden_layer = torch.mean(embeddings, dim=0)\n",
    "        if self.debug:\n",
    "            print(\"embeddings.shape\", embeddings.shape)\n",
    "            print(\"hidden layer.shape\", hidden_layer.shape)\n",
    "            print(\"hidden layer.unsqueeze(0).shape\", hidden_layer.unsqueeze(0).shape)\n",
    "        output_layer = self.hidden_to_output(hidden_layer.unsqueeze(0))\n",
    "        return output_layer\n",
    "\n"
   ]
  },
  {
   "cell_type": "code",
   "execution_count": 29,
   "metadata": {},
   "outputs": [
    {
     "name": "stdout",
     "output_type": "stream",
     "text": [
      "CBOW(\n",
      "  (input_to_hidden): Linear(in_features=9, out_features=2, bias=True)\n",
      "  (hidden_to_output): Linear(in_features=2, out_features=9, bias=True)\n",
      ")\n",
      "Epoch 100, Loss: 2.109607489903768\n",
      "Epoch 200, Loss: 2.0495461146036784\n",
      "Epoch 300, Loss: 2.014638153711955\n",
      "Epoch 400, Loss: 1.9912923892339072\n",
      "Epoch 500, Loss: 1.9735337416330974\n",
      "Epoch 600, Loss: 1.9584661404291788\n",
      "Epoch 700, Loss: 1.9445192575454713\n",
      "Epoch 800, Loss: 1.9307057778040568\n",
      "Epoch 900, Loss: 1.9162915786107382\n",
      "Epoch 1000, Loss: 1.9006402174631754\n"
     ]
    },
    {
     "data": {
      "image/png": "[encoded data removed]",
      "text/plain": [
       "<Figure size 640x480 with 1 Axes>"
      ]
     },
     "metadata": {},
     "output_type": "display_data"
    }
   ],
   "source": [
    "embedding_size=2\n",
    "cbow_model = CBOW(voc_size, embedding_size, debug=False)\n",
    "print(cbow_model)\n",
    "\n",
    "learning_rate = 0.001 \n",
    "epoches = 1000\n",
    "loss_fn = nn.CrossEntropyLoss()\n",
    "import torch.optim as optim\n",
    "optimizer = optim.SGD(cbow_model.parameters(), lr=learning_rate)\n",
    "\n",
    "loss_values = []\n",
    "for epoch in range(epoches):\n",
    "    loss_sum = 0\n",
    "    for target, context_words in cbow_datas:\n",
    "        # **cbow用周围词预测中心词**\n",
    "        X = torch.stack([one_hot_encoding(word, word_to_idx) for word in context_words]).float()\n",
    "        \n",
    "        # print(X.shape)\n",
    "        y_true = torch.tensor([word_to_idx[target]], dtype=torch.long)\n",
    "        # print(y_true.shape)\n",
    "        y_pred = cbow_model(X)\n",
    "        # print(y_pred.shape)\n",
    "        loss = loss_fn(y_pred, y_true)\n",
    "        loss_sum += loss.item()\n",
    "        optimizer.zero_grad()\n",
    "        loss.backward()\n",
    "        optimizer.step()\n",
    "        # print(\"X.shape\", X.shape)\n",
    "        # print(\"y_true.shape\", y_true.shape)\n",
    "        # print(\"y_pred.shape\", y_pred.shape)\n",
    "        # break\n",
    "    if (epoch + 1) % 100 == 0:\n",
    "        cur_loss = loss_sum/len(cbow_datas)\n",
    "        print(f\"Epoch {epoch+1}, Loss: {cur_loss}\")\n",
    "        loss_values.append(cur_loss)\n",
    "\n",
    "import matplotlib.pyplot as plt\n",
    "\n",
    "plt.plot(range(1, epoches//100 + 1), loss_values)\n",
    "plt.title(\"Loss Lines\")\n",
    "plt.xlabel('Epoch')\n",
    "plt.ylabel('Loss')\n",
    "plt.show()"
   ]
  }
 ],
 "metadata": {
  "kernelspec": {
   "display_name": "agent",
   "language": "python",
   "name": "python3"
  },
  "language_info": {
   "codemirror_mode": {
    "name": "ipython",
    "version": 3
   },
   "file_extension": ".py",
   "mimetype": "text/x-python",
   "name": "python",
   "nbconvert_exporter": "python",
   "pygments_lexer": "ipython3",
   "version": "3.11.11"
  }
 },
 "nbformat": 4,
 "nbformat_minor": 2
}
